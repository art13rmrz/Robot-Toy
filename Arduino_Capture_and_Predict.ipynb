{
 "cells": [
  {
   "cell_type": "code",
   "execution_count": null,
   "id": "75220091-bf80-4a80-afac-4b8e7cbd288d",
   "metadata": {},
   "outputs": [],
   "source": [
    "import serial\n",
    "import time\n",
    "import numpy as np\n",
    "import cv2\n",
    "import tensorflow as tf\n"
   ]
  },
  {
   "cell_type": "code",
   "execution_count": null,
   "id": "a17e2eaf-a468-4265-aa6f-c5f93354d734",
   "metadata": {},
   "outputs": [],
   "source": [
    "# Load trained model\n",
    "model = tf.keras.models.load_model(\"thumbs_up_model.h5\")\n",
    "img_size = (128, 128)\n",
    "\n",
    "# Connect to Arduino\n",
    "ser = serial.Serial('/dev/cu.usbmodem1301', 115200, timeout=5)\n",
    "time.sleep(2)\n",
    "\n",
    "# Wait for camera to start\n",
    "while True:\n",
    "    line = ser.readline().decode('utf-8', errors='ignore').strip()\n",
    "    if line == \"START\":\n",
    "        print(\"Image capture started.\")\n",
    "        break\n",
    "\n",
    "# Receive JPEG data\n",
    "jpeg_data = b''\n",
    "while True:\n",
    "    chunk = ser.read(1024)\n",
    "    if b'\\xff\\xd9' in chunk:\n",
    "        jpeg_data += chunk[:chunk.find(b'\\xff\\xd9') + 2]\n",
    "        break\n",
    "    jpeg_data += chunk\n",
    "\n",
    "# Decode image\n",
    "image_np = np.frombuffer(jpeg_data, dtype=np.uint8)\n",
    "img = cv2.imdecode(image_np, cv2.IMREAD_COLOR)\n",
    "cv2.imwrite(\"captured.jpg\", img)\n"
   ]
  },
  {
   "cell_type": "code",
   "execution_count": null,
   "id": "ddb8c236-7f37-4adc-9f03-2ebdd4eaf399",
   "metadata": {},
   "outputs": [],
   "source": [
    "# Predict thumbs up\n",
    "img_resized = cv2.resize(img, img_size) / 255.0\n",
    "img_tensor = np.expand_dims(img_resized, axis=0)\n",
    "prediction = model.predict(img_tensor)[0][0]\n",
    "\n",
    "if prediction > 0.5:\n",
    "    print(\"✅ Thumbs Up Detected!\")\n",
    "    ser.write(b'ROTATE\\n')\n",
    "else:\n",
    "    print(\"❌ Not a Thumbs Up\")"
   ]
  }
 ],
 "metadata": {
  "kernelspec": {
   "display_name": "Python 3 (ipykernel)",
   "language": "python",
   "name": "python3"
  },
  "language_info": {
   "codemirror_mode": {
    "name": "ipython",
    "version": 3
   },
   "file_extension": ".py",
   "mimetype": "text/x-python",
   "name": "python",
   "nbconvert_exporter": "python",
   "pygments_lexer": "ipython3",
   "version": "3.12.9"
  }
 },
 "nbformat": 4,
 "nbformat_minor": 5
}
